{
 "cells": [
  {
   "cell_type": "markdown",
   "metadata": {},
   "source": [
    "## Part 2: Clinical Application\n",
    "\n",
    "### Contents\n",
    "Fill out this notebook as part 2 of your final project submission.\n",
    "\n",
    "**You will have to complete the Code (Load Metadata & Compute Resting Heart Rate) and Project Write-up sections.**  \n",
    "\n",
    "- [Code](#Code) is where you will implement some parts of the **pulse rate algorithm** you created and tested in Part 1 and already includes the starter code.\n",
    "  - [Imports](#Imports) - These are the imports needed for Part 2 of the final project. \n",
    "    - [glob](https://docs.python.org/3/library/glob.html)\n",
    "    - [os](https://docs.python.org/3/library/os.html)\n",
    "    - [numpy](https://numpy.org/)\n",
    "    - [pandas](https://pandas.pydata.org/)\n",
    "  - [Load the Dataset](#Load-the-dataset)  \n",
    "  - [Load Metadata](#Load-Metadata)\n",
    "  - [Compute Resting Heart Rate](#Compute-Resting-Heart-Rate)\n",
    "  - [Plot Resting Heart Rate vs. Age Group](#Plot-Resting-Heart-Rate-vs.-Age-Group)\n",
    "- [Project Write-up](#Project-Write-Up) to describe the clinical significance you observe from the **pulse rate algorithm** applied to this dataset, what ways/information that could improve your results, and if we validated a trend known in the science community. \n",
    "\n",
    "### Dataset (CAST)\n",
    "\n",
    "The data from this project comes from the [Cardiac Arrythmia Suppression Trial (CAST)](https://physionet.org/content/crisdb/1.0.0/), which was sponsored by the National Heart, Lung, and Blood Institute (NHLBI). CAST collected 24 hours of heart rate data from ECGs from people who have had a myocardial infarction (MI) within the past two years.[1] This data has been smoothed and resampled to more closely resemble PPG-derived pulse rate data from a wrist wearable.[2]\n",
    "\n",
    "1. **CAST RR Interval Sub-Study Database Citation** - Stein PK, Domitrovich PP, Kleiger RE, Schechtman KB, Rottman JN. Clinical and demographic determinants of heart rate variability in patients post myocardial infarction: insights from the Cardiac Arrhythmia Suppression Trial (CAST). Clin Cardiol 23(3):187-94; 2000 (Mar)\n",
    "2. **Physionet Citation** - Goldberger AL, Amaral LAN, Glass L, Hausdorff JM, Ivanov PCh, Mark RG, Mietus JE, Moody GB, Peng C-K, Stanley HE. PhysioBank, PhysioToolkit, and PhysioNet: Components of a New Research Resource for Complex Physiologic Signals (2003). Circulation. 101(23):e215-e220.\n",
    "\n",
    "-----"
   ]
  },
  {
   "cell_type": "markdown",
   "metadata": {},
   "source": [
    "### Code\n",
    "#### Imports\n",
    "\n",
    "When you implement the functions, you'll only need to you use the packages you've used in the classroom, like [Pandas](https://pandas.pydata.org/) and [Numpy](http://www.numpy.org/). These packages are imported for you here. We recommend you don't import other packages outside of the [Standard Library](https://docs.python.org/3/library/) , otherwise the grader might not be able to run your code."
   ]
  },
  {
   "cell_type": "code",
   "execution_count": 2,
   "metadata": {},
   "outputs": [
    {
     "name": "stdout",
     "output_type": "stream",
     "text": [
      "Requirement already satisfied: seaborn==0.10.0 in /opt/conda/lib/python3.6/site-packages (0.10.0)\n",
      "Requirement already satisfied: matplotlib>=2.1.2 in /opt/conda/lib/python3.6/site-packages (from seaborn==0.10.0) (3.3.4)\n",
      "Requirement already satisfied: numpy>=1.13.3 in /opt/conda/lib/python3.6/site-packages (from seaborn==0.10.0) (1.19.5)\n",
      "Requirement already satisfied: pandas>=0.22.0 in /opt/conda/lib/python3.6/site-packages (from seaborn==0.10.0) (0.23.3)\n",
      "Requirement already satisfied: scipy>=1.0.1 in /opt/conda/lib/python3.6/site-packages (from seaborn==0.10.0) (1.2.1)\n",
      "Requirement already satisfied: pillow>=6.2.0 in /opt/conda/lib/python3.6/site-packages (from matplotlib>=2.1.2->seaborn==0.10.0) (8.3.1)\n",
      "Requirement already satisfied: python-dateutil>=2.1 in /opt/conda/lib/python3.6/site-packages (from matplotlib>=2.1.2->seaborn==0.10.0) (2.6.1)\n",
      "Requirement already satisfied: pyparsing!=2.0.4,!=2.1.2,!=2.1.6,>=2.0.3 in /opt/conda/lib/python3.6/site-packages (from matplotlib>=2.1.2->seaborn==0.10.0) (2.2.0)\n",
      "Requirement already satisfied: kiwisolver>=1.0.1 in /opt/conda/lib/python3.6/site-packages (from matplotlib>=2.1.2->seaborn==0.10.0) (1.3.1)\n",
      "Requirement already satisfied: cycler>=0.10 in /opt/conda/lib/python3.6/site-packages/cycler-0.10.0-py3.6.egg (from matplotlib>=2.1.2->seaborn==0.10.0) (0.10.0)\n",
      "Requirement already satisfied: pytz>=2011k in /opt/conda/lib/python3.6/site-packages (from pandas>=0.22.0->seaborn==0.10.0) (2017.3)\n",
      "Requirement already satisfied: six>=1.5 in /opt/conda/lib/python3.6/site-packages (from python-dateutil>=2.1->matplotlib>=2.1.2->seaborn==0.10.0) (1.11.0)\n"
     ]
    }
   ],
   "source": [
    "!pip3 install seaborn==0.10.0\n"
   ]
  },
  {
   "cell_type": "code",
   "execution_count": 3,
   "metadata": {},
   "outputs": [],
   "source": [
    "import glob\n",
    "import os\n",
    "\n",
    "import numpy as np\n",
    "import pandas as pd\n"
   ]
  },
  {
   "cell_type": "markdown",
   "metadata": {},
   "source": [
    "#### Load the dataset\n",
    "\n",
    "The dataset is stored as [.npz](https://docs.scipy.org/doc/numpy/reference/generated/numpy.savez.html) files. Each file contains roughly 24 hours of heart rate data in the 'hr' array sampled at 1Hz. The subject ID is the name of the file. You will use these files to compute resting heart rate.\n",
    "\n",
    "Demographics metadata is stored in a file called 'metadata.csv'. This CSV has three columns, one for subject ID, age group, and sex. You will use this file to make the association between resting heart rate and age group for each gender.\n",
    "\n",
    "Find the dataset in `../datasets/crisdb/`"
   ]
  },
  {
   "cell_type": "code",
   "execution_count": 4,
   "metadata": {},
   "outputs": [],
   "source": [
    "hr_filenames = glob.glob('/data/crisdb/*.npz')"
   ]
  },
  {
   "cell_type": "markdown",
   "metadata": {},
   "source": [
    "#### Load Metadata\n",
    "Load the metadata file into a datastructure that allows for easy lookups from subject ID to age group and sex."
   ]
  },
  {
   "cell_type": "code",
   "execution_count": 5,
   "metadata": {},
   "outputs": [],
   "source": [
    "metadata_filename = '/data/crisdb/metadata.csv'\n",
    "\n",
    "# Load the metadata file into this variable.\n",
    "with open(metadata_filename, 'r') as f:\n",
    "    metadata = pd.read_csv(f)"
   ]
  },
  {
   "cell_type": "code",
   "execution_count": 6,
   "metadata": {},
   "outputs": [
    {
     "data": {
      "text/html": [
       "<div>\n",
       "<style scoped>\n",
       "    .dataframe tbody tr th:only-of-type {\n",
       "        vertical-align: middle;\n",
       "    }\n",
       "\n",
       "    .dataframe tbody tr th {\n",
       "        vertical-align: top;\n",
       "    }\n",
       "\n",
       "    .dataframe thead th {\n",
       "        text-align: right;\n",
       "    }\n",
       "</style>\n",
       "<table border=\"1\" class=\"dataframe\">\n",
       "  <thead>\n",
       "    <tr style=\"text-align: right;\">\n",
       "      <th></th>\n",
       "      <th>subject</th>\n",
       "      <th>age</th>\n",
       "      <th>sex</th>\n",
       "    </tr>\n",
       "  </thead>\n",
       "  <tbody>\n",
       "    <tr>\n",
       "      <th>0</th>\n",
       "      <td>e198a</td>\n",
       "      <td>20-24</td>\n",
       "      <td>Male</td>\n",
       "    </tr>\n",
       "    <tr>\n",
       "      <th>1</th>\n",
       "      <td>e198b</td>\n",
       "      <td>20-24</td>\n",
       "      <td>Male</td>\n",
       "    </tr>\n",
       "    <tr>\n",
       "      <th>2</th>\n",
       "      <td>e028b</td>\n",
       "      <td>30-34</td>\n",
       "      <td>Male</td>\n",
       "    </tr>\n",
       "    <tr>\n",
       "      <th>3</th>\n",
       "      <td>e028a</td>\n",
       "      <td>30-34</td>\n",
       "      <td>Male</td>\n",
       "    </tr>\n",
       "    <tr>\n",
       "      <th>4</th>\n",
       "      <td>e061b</td>\n",
       "      <td>30-34</td>\n",
       "      <td>Male</td>\n",
       "    </tr>\n",
       "  </tbody>\n",
       "</table>\n",
       "</div>"
      ],
      "text/plain": [
       "  subject    age   sex\n",
       "0   e198a  20-24  Male\n",
       "1   e198b  20-24  Male\n",
       "2   e028b  30-34  Male\n",
       "3   e028a  30-34  Male\n",
       "4   e061b  30-34  Male"
      ]
     },
     "execution_count": 6,
     "metadata": {},
     "output_type": "execute_result"
    }
   ],
   "source": [
    "metadata.head()"
   ]
  },
  {
   "cell_type": "markdown",
   "metadata": {},
   "source": [
    "#### Compute Resting Heart Rate\n",
    "For each subject we want to compute the resting heart rate while keeping track of which age group this subject belongs to. An easy, robust way to compute the resting heart rate is to use the lowest 5th percentile value in the heart rate timeseries."
   ]
  },
  {
   "cell_type": "code",
   "execution_count": 7,
   "metadata": {},
   "outputs": [],
   "source": [
    "def AgeAndRHR(metadata, filename):\n",
    "\n",
    "    # Load the heart rate timeseries\n",
    "    hr_data = np.load(filename)['hr']\n",
    "    \n",
    "    # Compute the resting heart rate from the timeseries by finding the lowest 5th percentile value in hr_data\n",
    "    rhr = np.percentile(hr_data,5)\n",
    "\n",
    "    # Find the subject ID from the filename.\n",
    "    subject = filename[-9:-4]\n",
    "\n",
    "    # Find the age group for this subject in metadata.\n",
    "    age_group = metadata[metadata.subject == subject]['age'].values[0]\n",
    "\n",
    "    # Find the sex for this subject in metadata.\n",
    "    sex = metadata[metadata.subject == subject]['sex'].values[0]\n",
    "\n",
    "    return age_group, sex, rhr\n",
    "\n",
    "df = pd.DataFrame(data=[AgeAndRHR(metadata, filename) for filename in hr_filenames],\n",
    "                  columns=['age_group', 'sex', 'rhr'])"
   ]
  },
  {
   "cell_type": "code",
   "execution_count": 8,
   "metadata": {},
   "outputs": [
    {
     "data": {
      "text/html": [
       "<div>\n",
       "<style scoped>\n",
       "    .dataframe tbody tr th:only-of-type {\n",
       "        vertical-align: middle;\n",
       "    }\n",
       "\n",
       "    .dataframe tbody tr th {\n",
       "        vertical-align: top;\n",
       "    }\n",
       "\n",
       "    .dataframe thead th {\n",
       "        text-align: right;\n",
       "    }\n",
       "</style>\n",
       "<table border=\"1\" class=\"dataframe\">\n",
       "  <thead>\n",
       "    <tr style=\"text-align: right;\">\n",
       "      <th></th>\n",
       "      <th>age_group</th>\n",
       "      <th>sex</th>\n",
       "      <th>rhr</th>\n",
       "    </tr>\n",
       "  </thead>\n",
       "  <tbody>\n",
       "    <tr>\n",
       "      <th>0</th>\n",
       "      <td>60-64</td>\n",
       "      <td>Female</td>\n",
       "      <td>89.302326</td>\n",
       "    </tr>\n",
       "    <tr>\n",
       "      <th>1</th>\n",
       "      <td>65-69</td>\n",
       "      <td>Male</td>\n",
       "      <td>65.641026</td>\n",
       "    </tr>\n",
       "    <tr>\n",
       "      <th>2</th>\n",
       "      <td>45-49</td>\n",
       "      <td>Male</td>\n",
       "      <td>56.928458</td>\n",
       "    </tr>\n",
       "    <tr>\n",
       "      <th>3</th>\n",
       "      <td>60-64</td>\n",
       "      <td>Male</td>\n",
       "      <td>68.571429</td>\n",
       "    </tr>\n",
       "    <tr>\n",
       "      <th>4</th>\n",
       "      <td>50-54</td>\n",
       "      <td>Male</td>\n",
       "      <td>84.395604</td>\n",
       "    </tr>\n",
       "  </tbody>\n",
       "</table>\n",
       "</div>"
      ],
      "text/plain": [
       "  age_group     sex        rhr\n",
       "0     60-64  Female  89.302326\n",
       "1     65-69    Male  65.641026\n",
       "2     45-49    Male  56.928458\n",
       "3     60-64    Male  68.571429\n",
       "4     50-54    Male  84.395604"
      ]
     },
     "execution_count": 8,
     "metadata": {},
     "output_type": "execute_result"
    }
   ],
   "source": [
    "df.head()"
   ]
  },
  {
   "cell_type": "code",
   "execution_count": 21,
   "metadata": {},
   "outputs": [
    {
     "data": {
      "text/plain": [
       "age_group    98\n",
       "sex          98\n",
       "rhr          98\n",
       "xaxis        98\n",
       "dtype: int64"
      ]
     },
     "execution_count": 21,
     "metadata": {},
     "output_type": "execute_result"
    }
   ],
   "source": [
    "df[df['age_group']=='75-79'].count()"
   ]
  },
  {
   "cell_type": "markdown",
   "metadata": {},
   "source": [
    "#### Plot Resting Heart Rate vs. Age Group\n",
    "We'll use [seaborn](https://seaborn.pydata.org/) to plot the relationship. Seaborn is a thin wrapper around matplotlib, which we've used extensively in this class, that enables higher-level statistical plots.\n",
    "\n",
    "We will use [lineplot](https://seaborn.pydata.org/generated/seaborn.lineplot.html#seaborn.lineplot) to plot the mean of the resting heart rates for each age group along with the 95% confidence interval around the mean. Learn more about making plots that show uncertainty [here](https://seaborn.pydata.org/tutorial/relational.html#aggregation-and-representing-uncertainty)."
   ]
  },
  {
   "cell_type": "code",
   "execution_count": 9,
   "metadata": {},
   "outputs": [
    {
     "data": {
      "image/png": "[encoded data removed]",
      "text/plain": [
       "<Figure size 864x576 with 1 Axes>"
      ]
     },
     "metadata": {
      "needs_background": "light"
     },
     "output_type": "display_data"
    }
   ],
   "source": [
    "import seaborn as sns\n",
    "from matplotlib import pyplot as plt\n",
    "\n",
    "labels = sorted(np.unique(df.age_group))\n",
    "df['xaxis'] = df.age_group.map(lambda x: labels.index(x)).astype('float')\n",
    "plt.figure(figsize=(12, 8))\n",
    "sns.lineplot(x='xaxis', y='rhr', hue='sex', data=df)\n",
    "_ = plt.xticks(np.arange(len(labels)), labels)"
   ]
  },
  {
   "cell_type": "markdown",
   "metadata": {},
   "source": [
    "### Clinical Conclusion\n",
    "Answer the following prompts to draw a conclusion about the data.\n",
    "> 1. For women, we see .... \n",
    "> 2. For men, we see ... \n",
    "> 3. In comparison to men, women's heart rate is .... \n",
    "> 4. What are some possible reasons for what we see in our data?\n",
    "> 5. What else can we do or go and find to figure out what is really happening? How would that improve the results?\n",
    "> 6. Did we validate the trend that average resting heart rate increases up until middle age and then decreases into old age? How?\n",
    "\n",
    "Your write-up will go here...\n",
    "\n",
    "1. For women, we see the heart rate increases up until middle age and then decreases into old age. The variance of heart rate is lower in old age.\n",
    "\n",
    "2. For men, we see heart rate descreases slightly with age. The variance of heart rate is smaller in middle age.\n",
    "\n",
    "3. In comparison to men, women's heart rate is higher than that of men except in old age. The variance of women's heart rate is larger.\n",
    "\n",
    "4. There are 1260 male and 277 female in the dataset. In general, the variance decreases with the number of samples. The number of samples in different age group are not the same. The age group with more samples has a smaller variance. The dataset is taken from people who have had a myocardial infarction before. There is is an unbalanced data between male and female. We use 5th percentile as the rest heart rate. It may not be correct.\n",
    "\n",
    "5. We can check the number of samples for male and female in different age groups. We can ensure that the number of samples are the same for male and female. Data can also be collected for healthy people. So, the trend of healthy people and myocardial infarction pateint can be compared. A more complicated model or criteria can be apllied to restimate the rest heart rate.\n",
    "\n",
    "6. For women, the trend can be observed but it cannot be observed for men. The heart rate decreases with the age for men."
   ]
  },
  {
   "cell_type": "code",
   "execution_count": null,
   "metadata": {},
   "outputs": [],
   "source": []
  }
 ],
 "metadata": {
  "kernelspec": {
   "display_name": "Python 3",
   "language": "python",
   "name": "python3"
  },
  "language_info": {
   "codemirror_mode": {
    "name": "ipython",
    "version": 3
   },
   "file_extension": ".py",
   "mimetype": "text/x-python",
   "name": "python",
   "nbconvert_exporter": "python",
   "pygments_lexer": "ipython3",
   "version": "3.6.3"
  }
 },
 "nbformat": 4,
 "nbformat_minor": 2
}
